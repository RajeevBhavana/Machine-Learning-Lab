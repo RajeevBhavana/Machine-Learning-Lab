{
  "nbformat": 4,
  "nbformat_minor": 0,
  "metadata": {
    "colab": {
      "name": "K  Nearest Neighbour.ipynb",
      "provenance": [],
      "collapsed_sections": []
    },
    "kernelspec": {
      "display_name": "Python 3",
      "name": "python3"
    },
    "language_info": {
      "name": "python"
    }
  },
  "cells": [
    {
      "cell_type": "markdown",
      "metadata": {
        "id": "gifKecAk_8bJ"
      },
      "source": [
        "First Feature"
      ]
    },
    {
      "cell_type": "code",
      "metadata": {
        "id": "ZLXxghc07SeP"
      },
      "source": [
        "weather=['sunny','sunny','overcast','rainy','rainy','rainy','overcast','sunny','sunny','rainy','sunny','overcast','overcast','rainy']"
      ],
      "execution_count": null,
      "outputs": []
    },
    {
      "cell_type": "markdown",
      "metadata": {
        "id": "-wVMP9iy__wH"
      },
      "source": [
        "Second feature"
      ]
    },
    {
      "cell_type": "code",
      "metadata": {
        "id": "SwXYmp4p_6VB"
      },
      "source": [
        "temp=['hot','hot','hot','mild','cool','cool','cool','mild','cool','mild','mild','mild','hot','mild']"
      ],
      "execution_count": null,
      "outputs": []
    },
    {
      "cell_type": "markdown",
      "metadata": {
        "id": "gJYSV4WEAsy_"
      },
      "source": [
        "Label or target variable"
      ]
    },
    {
      "cell_type": "code",
      "metadata": {
        "id": "4nitNs1mAx89"
      },
      "source": [
        "play=['no','no','yes','yes','yes','no','yes','no','yes','yes','yes','yes','yes','no']"
      ],
      "execution_count": null,
      "outputs": []
    },
    {
      "cell_type": "markdown",
      "metadata": {
        "id": "dxxPnYRHBb-P"
      },
      "source": [
        "Importing Label encoder"
      ]
    },
    {
      "cell_type": "code",
      "metadata": {
        "id": "dooWem4oBUpQ"
      },
      "source": [
        "from sklearn import preprocessing"
      ],
      "execution_count": null,
      "outputs": []
    },
    {
      "cell_type": "markdown",
      "metadata": {
        "id": "Iy8GKQw8Btoa"
      },
      "source": [
        "Creating Label Encoder"
      ]
    },
    {
      "cell_type": "code",
      "metadata": {
        "id": "kt-hS7dmBlgr"
      },
      "source": [
        "knn=preprocessing.LabelEncoder()"
      ],
      "execution_count": null,
      "outputs": []
    },
    {
      "cell_type": "markdown",
      "metadata": {
        "id": "kIbT-YG2CC-Y"
      },
      "source": [
        "Converting Categorical to numerical values"
      ]
    },
    {
      "cell_type": "code",
      "metadata": {
        "id": "xtgNm9MzB9dw"
      },
      "source": [
        "weather_encoded=knn.fit_transform(weather)"
      ],
      "execution_count": null,
      "outputs": []
    },
    {
      "cell_type": "code",
      "metadata": {
        "colab": {
          "base_uri": "https://localhost:8080/"
        },
        "id": "Mv9LtyMvCbVp",
        "outputId": "16fd5ded-d49c-486a-e591-efe0d737c16c"
      },
      "source": [
        "print(weather_encoded)"
      ],
      "execution_count": null,
      "outputs": [
        {
          "name": "stdout",
          "output_type": "stream",
          "text": [
            "[2 2 0 1 1 1 0 2 2 1 2 0 0 1]\n"
          ]
        }
      ]
    },
    {
      "cell_type": "code",
      "metadata": {
        "id": "SOjk-hqAD5wg"
      },
      "source": [
        "temp_encoded=knn.fit_transform(temp)"
      ],
      "execution_count": null,
      "outputs": []
    },
    {
      "cell_type": "code",
      "metadata": {
        "colab": {
          "base_uri": "https://localhost:8080/"
        },
        "id": "_b0dz5TrF5sA",
        "outputId": "8870a2ee-dd13-47fc-b2a0-14a75c89f7a4"
      },
      "source": [
        "print(temp_encoded)"
      ],
      "execution_count": null,
      "outputs": [
        {
          "name": "stdout",
          "output_type": "stream",
          "text": [
            "[1 1 1 2 0 0 0 2 0 2 2 2 1 2]\n"
          ]
        }
      ]
    },
    {
      "cell_type": "code",
      "metadata": {
        "id": "cFoLkJD7F-m4"
      },
      "source": [
        "output=knn.fit_transform(play)"
      ],
      "execution_count": null,
      "outputs": []
    },
    {
      "cell_type": "code",
      "metadata": {
        "colab": {
          "base_uri": "https://localhost:8080/"
        },
        "id": "hYUyqyvTGsGv",
        "outputId": "46c5a7b6-0bf9-428e-d8c0-ff0e7fcaf9e0"
      },
      "source": [
        "print(output)"
      ],
      "execution_count": null,
      "outputs": [
        {
          "name": "stdout",
          "output_type": "stream",
          "text": [
            "[0 0 1 1 1 0 1 0 1 1 1 1 1 0]\n"
          ]
        }
      ]
    },
    {
      "cell_type": "markdown",
      "metadata": {
        "id": "nUtGM7DBG6HY"
      },
      "source": [
        "Combining Features"
      ]
    },
    {
      "cell_type": "code",
      "metadata": {
        "id": "BWjh_j3VG5Of"
      },
      "source": [
        "features=list(zip(weather_encoded,temp_encoded))"
      ],
      "execution_count": null,
      "outputs": []
    },
    {
      "cell_type": "code",
      "metadata": {
        "colab": {
          "base_uri": "https://localhost:8080/"
        },
        "id": "Dkc6KO7kHIEs",
        "outputId": "69f847ee-73b3-4145-eeeb-c9121df171da"
      },
      "source": [
        "print(features)"
      ],
      "execution_count": null,
      "outputs": [
        {
          "name": "stdout",
          "output_type": "stream",
          "text": [
            "[(2, 1), (2, 1), (0, 1), (1, 2), (1, 0), (1, 0), (0, 0), (2, 2), (2, 0), (1, 2), (2, 2), (0, 2), (0, 1), (1, 2)]\n"
          ]
        }
      ]
    },
    {
      "cell_type": "markdown",
      "metadata": {
        "id": "6bRlfwhYKGfY"
      },
      "source": [
        "Generating Model Using KNN"
      ]
    },
    {
      "cell_type": "code",
      "metadata": {
        "colab": {
          "background_save": true
        },
        "id": "2Gck5VJ8HKBr"
      },
      "source": [
        "from sklearn.neighbors import KNeighborsClassifier"
      ],
      "execution_count": null,
      "outputs": []
    },
    {
      "cell_type": "code",
      "metadata": {
        "id": "juzGtmGNKdEP"
      },
      "source": [
        "model=KNeighborsClassifier(n_neighbors=3)"
      ],
      "execution_count": null,
      "outputs": []
    },
    {
      "cell_type": "code",
      "metadata": {
        "colab": {
          "base_uri": "https://localhost:8080/"
        },
        "id": "Q-szOc6vPD2x",
        "outputId": "306e0cf4-f75f-431f-8899-39f800d70851"
      },
      "source": [
        "model.fit(features,output)"
      ],
      "execution_count": null,
      "outputs": [
        {
          "output_type": "execute_result",
          "data": {
            "text/plain": [
              "KNeighborsClassifier(n_neighbors=3)"
            ]
          },
          "metadata": {},
          "execution_count": 43
        }
      ]
    },
    {
      "cell_type": "code",
      "metadata": {
        "id": "WV3rRdpMPIwY"
      },
      "source": [
        "features1=list(zip(weather_encoded,temp_encoded,output))"
      ],
      "execution_count": null,
      "outputs": []
    },
    {
      "cell_type": "code",
      "metadata": {
        "colab": {
          "base_uri": "https://localhost:8080/"
        },
        "id": "X_AHdZvDPPgn",
        "outputId": "5a5cab33-9d17-434f-99c8-3ef74caeef8b"
      },
      "source": [
        "print(features1)"
      ],
      "execution_count": null,
      "outputs": [
        {
          "output_type": "stream",
          "name": "stdout",
          "text": [
            "[(2, 1, 0), (2, 1, 0), (0, 1, 1), (1, 2, 1), (1, 0, 1), (1, 0, 0), (0, 0, 1), (2, 2, 0), (2, 0, 1), (1, 2, 1), (2, 2, 1), (0, 2, 1), (0, 1, 1), (1, 2, 0)]\n"
          ]
        }
      ]
    },
    {
      "cell_type": "code",
      "metadata": {
        "id": "fJ2bNwT6PR5P"
      },
      "source": [
        "prediction=model.predict([[1,0]])"
      ],
      "execution_count": null,
      "outputs": []
    },
    {
      "cell_type": "code",
      "metadata": {
        "colab": {
          "base_uri": "https://localhost:8080/"
        },
        "id": "Qd3C0IlyPXrn",
        "outputId": "c86e7b06-60b9-4304-c6f0-8a040893680f"
      },
      "source": [
        "print(prediction)"
      ],
      "execution_count": null,
      "outputs": [
        {
          "output_type": "stream",
          "name": "stdout",
          "text": [
            "[1]\n"
          ]
        }
      ]
    },
    {
      "cell_type": "code",
      "metadata": {
        "id": "c1wUPstuPZv-"
      },
      "source": [
        ""
      ],
      "execution_count": null,
      "outputs": []
    }
  ]
}