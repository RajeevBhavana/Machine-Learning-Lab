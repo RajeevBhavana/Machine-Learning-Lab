{
  "nbformat": 4,
  "nbformat_minor": 0,
  "metadata": {
    "colab": {
      "name": "KNN1.ipynb",
      "provenance": [],
      "collapsed_sections": []
    },
    "kernelspec": {
      "name": "python3",
      "display_name": "Python 3"
    },
    "language_info": {
      "name": "python"
    }
  },
  "cells": [
    {
      "cell_type": "code",
      "metadata": {
        "id": "BmF3812o1eJl"
      },
      "source": [
        "from sklearn import datasets"
      ],
      "execution_count": 1,
      "outputs": []
    },
    {
      "cell_type": "code",
      "metadata": {
        "id": "t6KfunMN2HfN"
      },
      "source": [
        "iris_dataset=datasets.load_iris()"
      ],
      "execution_count": 2,
      "outputs": []
    },
    {
      "cell_type": "code",
      "metadata": {
        "colab": {
          "base_uri": "https://localhost:8080/"
        },
        "id": "gWExLI122MKD",
        "outputId": "65167586-3d97-4378-f8bf-b350503c9715"
      },
      "source": [
        "print(iris_dataset.feature_names)"
      ],
      "execution_count": 3,
      "outputs": [
        {
          "output_type": "stream",
          "name": "stdout",
          "text": [
            "['sepal length (cm)', 'sepal width (cm)', 'petal length (cm)', 'petal width (cm)']\n"
          ]
        }
      ]
    },
    {
      "cell_type": "markdown",
      "metadata": {
        "id": "pXB-xrFQ2cUW"
      },
      "source": [
        "Checking records of Target set"
      ]
    },
    {
      "cell_type": "code",
      "metadata": {
        "colab": {
          "base_uri": "https://localhost:8080/"
        },
        "id": "-TIlw7HS2Zd-",
        "outputId": "7797ac87-7d3b-45f6-c424-3ac07affc78e"
      },
      "source": [
        "print(iris_dataset.target_names)"
      ],
      "execution_count": 4,
      "outputs": [
        {
          "output_type": "stream",
          "name": "stdout",
          "text": [
            "['setosa' 'versicolor' 'virginica']\n"
          ]
        }
      ]
    },
    {
      "cell_type": "code",
      "metadata": {
        "colab": {
          "base_uri": "https://localhost:8080/"
        },
        "id": "-hOHNwqJ2lE7",
        "outputId": "ccd172c8-be9f-4a5a-97d5-8628175e7b6d"
      },
      "source": [
        "type(iris_dataset.target)"
      ],
      "execution_count": 5,
      "outputs": [
        {
          "output_type": "execute_result",
          "data": {
            "text/plain": [
              "numpy.ndarray"
            ]
          },
          "metadata": {},
          "execution_count": 5
        }
      ]
    },
    {
      "cell_type": "markdown",
      "metadata": {
        "id": "7FFCGrGk2wqq"
      },
      "source": [
        "Checking top 5 records of dataset"
      ]
    },
    {
      "cell_type": "code",
      "metadata": {
        "colab": {
          "base_uri": "https://localhost:8080/"
        },
        "id": "CsBIMxE_2m_T",
        "outputId": "7054593a-01ac-46ab-b780-f2416e582411"
      },
      "source": [
        "print(iris_dataset.data[0:5])"
      ],
      "execution_count": 6,
      "outputs": [
        {
          "output_type": "stream",
          "name": "stdout",
          "text": [
            "[[5.1 3.5 1.4 0.2]\n",
            " [4.9 3.  1.4 0.2]\n",
            " [4.7 3.2 1.3 0.2]\n",
            " [4.6 3.1 1.5 0.2]\n",
            " [5.  3.6 1.4 0.2]]\n"
          ]
        }
      ]
    },
    {
      "cell_type": "code",
      "metadata": {
        "colab": {
          "base_uri": "https://localhost:8080/"
        },
        "id": "cjzxg5Bn22AD",
        "outputId": "cebac62f-878d-44b9-c0c9-da21ad7befe3"
      },
      "source": [
        "type(iris_dataset)"
      ],
      "execution_count": 7,
      "outputs": [
        {
          "output_type": "execute_result",
          "data": {
            "text/plain": [
              "sklearn.utils.Bunch"
            ]
          },
          "metadata": {},
          "execution_count": 7
        }
      ]
    },
    {
      "cell_type": "code",
      "metadata": {
        "colab": {
          "base_uri": "https://localhost:8080/"
        },
        "id": "SwKu3lI-24lD",
        "outputId": "c1094c19-e14d-4012-be49-457e946d3263"
      },
      "source": [
        "print(iris_dataset.target[0:5])"
      ],
      "execution_count": 8,
      "outputs": [
        {
          "output_type": "stream",
          "name": "stdout",
          "text": [
            "[0 0 0 0 0]\n"
          ]
        }
      ]
    },
    {
      "cell_type": "markdown",
      "metadata": {
        "id": "Q2Qfu1rL3CIz"
      },
      "source": [
        "Checking shape of dataset using shape functions"
      ]
    },
    {
      "cell_type": "code",
      "metadata": {
        "colab": {
          "base_uri": "https://localhost:8080/"
        },
        "id": "uUFkLd6p26pa",
        "outputId": "51b1401a-dca4-4a55-e483-d6f2dadf2aff"
      },
      "source": [
        "print(iris_dataset.data.shape)"
      ],
      "execution_count": 9,
      "outputs": [
        {
          "output_type": "stream",
          "name": "stdout",
          "text": [
            "(150, 4)\n"
          ]
        }
      ]
    },
    {
      "cell_type": "markdown",
      "metadata": {
        "id": "MYY_9MUB3Ttz"
      },
      "source": [
        "Splitting data using split function"
      ]
    },
    {
      "cell_type": "code",
      "metadata": {
        "id": "nDISdcqa3L8E"
      },
      "source": [
        "from sklearn.model_selection import train_test_split"
      ],
      "execution_count": 10,
      "outputs": []
    },
    {
      "cell_type": "markdown",
      "metadata": {
        "id": "Wrr_SPdH3dWz"
      },
      "source": [
        "splitting dataset into training set and testing set"
      ]
    },
    {
      "cell_type": "code",
      "metadata": {
        "id": "B_--5tFJ3ZEb"
      },
      "source": [
        "x_train,x_test,y_train,y_test = train_test_split(iris_dataset.data,iris_dataset.target,test_size=0.3)"
      ],
      "execution_count": 11,
      "outputs": []
    },
    {
      "cell_type": "markdown",
      "metadata": {
        "id": "S9Viwe3R31CL"
      },
      "source": [
        "Creating knn classifier"
      ]
    },
    {
      "cell_type": "code",
      "metadata": {
        "id": "uhI-4oXE3wxL"
      },
      "source": [
        "from sklearn.neighbors import KNeighborsClassifier"
      ],
      "execution_count": 12,
      "outputs": []
    },
    {
      "cell_type": "markdown",
      "metadata": {
        "id": "cvwdjmw037Kz"
      },
      "source": [
        "Generating model for k=2"
      ]
    },
    {
      "cell_type": "code",
      "metadata": {
        "id": "DTGLOePo35CT"
      },
      "source": [
        "knn2=KNeighborsClassifier(n_neighbors=2)"
      ],
      "execution_count": 13,
      "outputs": []
    },
    {
      "cell_type": "markdown",
      "metadata": {
        "id": "XEm39VEe4DEr"
      },
      "source": [
        "training the model using training sets"
      ]
    },
    {
      "cell_type": "code",
      "metadata": {
        "colab": {
          "base_uri": "https://localhost:8080/"
        },
        "id": "2ATzffzX3_GD",
        "outputId": "2de6e443-0a25-4f99-a4a9-4a72f7ec3988"
      },
      "source": [
        "knn2.fit(x_train,y_train)"
      ],
      "execution_count": 14,
      "outputs": [
        {
          "output_type": "execute_result",
          "data": {
            "text/plain": [
              "KNeighborsClassifier(n_neighbors=2)"
            ]
          },
          "metadata": {},
          "execution_count": 14
        }
      ]
    },
    {
      "cell_type": "markdown",
      "metadata": {
        "id": "BVZmcl9T4KLj"
      },
      "source": [
        "predicting the response for the test dataset"
      ]
    },
    {
      "cell_type": "code",
      "metadata": {
        "id": "Z9FHj-ts4F27"
      },
      "source": [
        "y_pred2=knn2.predict(x_test)"
      ],
      "execution_count": 15,
      "outputs": []
    },
    {
      "cell_type": "code",
      "metadata": {
        "id": "6taWNJh_4R0D"
      },
      "source": [
        "from sklearn import metrics"
      ],
      "execution_count": 17,
      "outputs": []
    },
    {
      "cell_type": "code",
      "metadata": {
        "colab": {
          "base_uri": "https://localhost:8080/"
        },
        "id": "EosZZpPd4NbD",
        "outputId": "1743f960-f38d-4e45-e583-8b9ca307b489"
      },
      "source": [
        "print(\"Accuracy:\",metrics.accuracy_score(y_test,y_pred2))"
      ],
      "execution_count": 18,
      "outputs": [
        {
          "output_type": "stream",
          "name": "stdout",
          "text": [
            "Accuracy: 0.9555555555555556\n"
          ]
        }
      ]
    },
    {
      "cell_type": "markdown",
      "metadata": {
        "id": "2Cp85Q4Z4aIj"
      },
      "source": [
        "generating model for k=5"
      ]
    },
    {
      "cell_type": "code",
      "metadata": {
        "id": "hq6WUu3L4QHb"
      },
      "source": [
        "knn5=KNeighborsClassifier(n_neighbors=5)"
      ],
      "execution_count": 19,
      "outputs": []
    },
    {
      "cell_type": "code",
      "metadata": {
        "colab": {
          "base_uri": "https://localhost:8080/"
        },
        "id": "xcPpfBc14cpj",
        "outputId": "2bc68a7e-2315-4ef5-f4d0-f3963fa83e2b"
      },
      "source": [
        "knn5.fit(x_train,y_train)"
      ],
      "execution_count": 20,
      "outputs": [
        {
          "output_type": "execute_result",
          "data": {
            "text/plain": [
              "KNeighborsClassifier()"
            ]
          },
          "metadata": {},
          "execution_count": 20
        }
      ]
    },
    {
      "cell_type": "markdown",
      "metadata": {
        "id": "of6EMJZl4j4z"
      },
      "source": [
        "predicting the response for the test dataset"
      ]
    },
    {
      "cell_type": "code",
      "metadata": {
        "id": "PmGk91dc4fDT"
      },
      "source": [
        "y_pred5=knn5.predict(x_test)"
      ],
      "execution_count": 21,
      "outputs": []
    },
    {
      "cell_type": "code",
      "metadata": {
        "colab": {
          "base_uri": "https://localhost:8080/"
        },
        "id": "gwUHv01p4mTU",
        "outputId": "b771c36f-94c8-45ae-fb4f-0aabfb65cb20"
      },
      "source": [
        "print(\"Accuracy:\",metrics.accuracy_score(y_test,y_pred5))"
      ],
      "execution_count": 22,
      "outputs": [
        {
          "output_type": "stream",
          "name": "stdout",
          "text": [
            "Accuracy: 0.9555555555555556\n"
          ]
        }
      ]
    },
    {
      "cell_type": "code",
      "metadata": {
        "id": "vxY1ALa44opz"
      },
      "source": [
        ""
      ],
      "execution_count": null,
      "outputs": []
    }
  ]
}