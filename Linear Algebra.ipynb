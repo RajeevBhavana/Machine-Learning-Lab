{
 "cells": [
  {
   "cell_type": "code",
   "execution_count": 1,
   "id": "detected-herald",
   "metadata": {},
   "outputs": [
    {
     "data": {
      "text/plain": [
       "7"
      ]
     },
     "execution_count": 1,
     "metadata": {},
     "output_type": "execute_result"
    }
   ],
   "source": [
    "3+4\n"
   ]
  },
  {
   "cell_type": "code",
   "execution_count": 2,
   "id": "solved-bowling",
   "metadata": {},
   "outputs": [
    {
     "data": {
      "text/plain": [
       "12"
      ]
     },
     "execution_count": 2,
     "metadata": {},
     "output_type": "execute_result"
    }
   ],
   "source": [
    "a=7\n",
    "b=5\n",
    "a+b"
   ]
  },
  {
   "cell_type": "code",
   "execution_count": 4,
   "id": "foreign-brunei",
   "metadata": {},
   "outputs": [
    {
     "name": "stdout",
     "output_type": "stream",
     "text": [
      "Hello My name isRajeev\n",
      "I am 19years old\n"
     ]
    }
   ],
   "source": [
    "greetings = 'Hello My name is'\n",
    "name = 'Rajeev'\n",
    "age =19\n",
    "print(greetings + name)\n",
    "print('I am ' + str(age) + 'years old')"
   ]
  },
  {
   "cell_type": "code",
   "execution_count": 5,
   "id": "excess-violation",
   "metadata": {},
   "outputs": [
    {
     "data": {
      "text/plain": [
       "[1, 2, 3, 4, 4]"
      ]
     },
     "execution_count": 5,
     "metadata": {},
     "output_type": "execute_result"
    }
   ],
   "source": [
    "numlst = [1,2,3,4,4]\n",
    "numlst"
   ]
  },
  {
   "cell_type": "code",
   "execution_count": 6,
   "id": "developmental-indication",
   "metadata": {},
   "outputs": [
    {
     "data": {
      "text/plain": [
       "4.0"
      ]
     },
     "execution_count": 6,
     "metadata": {},
     "output_type": "execute_result"
    }
   ],
   "source": [
    "import numpy as np\n",
    "np.mean(numlst)\n",
    "np.sqrt(16)"
   ]
  },
  {
   "cell_type": "code",
   "execution_count": 7,
   "id": "particular-salon",
   "metadata": {},
   "outputs": [
    {
     "data": {
      "text/plain": [
       "array([ 1. ,  2.5,  4. ,  5.5,  7. ,  8.5, 10. ])"
      ]
     },
     "execution_count": 7,
     "metadata": {},
     "output_type": "execute_result"
    }
   ],
   "source": [
    "np.linspace(1,10,7)"
   ]
  },
  {
   "cell_type": "code",
   "execution_count": 8,
   "id": "ideal-elevation",
   "metadata": {},
   "outputs": [
    {
     "data": {
      "text/plain": [
       "array([1.        , 1.16666667, 1.33333333, 1.5       , 1.66666667,\n",
       "       1.83333333, 2.        ])"
      ]
     },
     "execution_count": 8,
     "metadata": {},
     "output_type": "execute_result"
    }
   ],
   "source": [
    "np.linspace(1,2,7)"
   ]
  },
  {
   "cell_type": "code",
   "execution_count": 9,
   "id": "harmful-pasta",
   "metadata": {},
   "outputs": [],
   "source": [
    "import matplotlib.pyplot as plt\n",
    "import numpy as np"
   ]
  },
  {
   "cell_type": "code",
   "execution_count": 12,
   "id": "respiratory-resident",
   "metadata": {},
   "outputs": [
    {
     "data": {
      "text/plain": [
       "[<matplotlib.lines.Line2D at 0x7f5ec48f20f0>]"
      ]
     },
     "execution_count": 12,
     "metadata": {},
     "output_type": "execute_result"
    },
    {
     "data": {
      "image/png": "[encoded data removed]",
      "text/plain": [
       "<Figure size 432x288 with 1 Axes>"
      ]
     },
     "metadata": {
      "needs_background": "light"
     },
     "output_type": "display_data"
    }
   ],
   "source": [
    "plt.plot(1,3)"
   ]
  },
  {
   "cell_type": "code",
   "execution_count": 13,
   "id": "fundamental-inspiration",
   "metadata": {},
   "outputs": [
    {
     "data": {
      "text/plain": [
       "[<matplotlib.lines.Line2D at 0x7f5ec484ddd8>]"
      ]
     },
     "execution_count": 13,
     "metadata": {},
     "output_type": "execute_result"
    },
    {
     "data": {
      "image/png": "[encoded data removed]",
      "text/plain": [
       "<Figure size 432x288 with 1 Axes>"
      ]
     },
     "metadata": {
      "needs_background": "light"
     },
     "output_type": "display_data"
    }
   ],
   "source": [
    "plt.plot(1,2,'bo')"
   ]
  },
  {
   "cell_type": "code",
   "execution_count": 17,
   "id": "prime-calcium",
   "metadata": {},
   "outputs": [
    {
     "name": "stdout",
     "output_type": "stream",
     "text": [
      "[-9 -8 -7 -6 -5 -4 -3 -2 -1  0  1  2  3  4  5  6  7  8  9]\n"
     ]
    },
    {
     "data": {
      "text/plain": [
       "[<matplotlib.lines.Line2D at 0x7f5ec47fb208>]"
      ]
     },
     "execution_count": 17,
     "metadata": {},
     "output_type": "execute_result"
    },
    {
     "data": {
      "image/png": "[encoded data removed]",
      "text/plain": [
       "<Figure size 432x288 with 1 Axes>"
      ]
     },
     "metadata": {
      "needs_background": "light"
     },
     "output_type": "display_data"
    }
   ],
   "source": [
    "x=np.arange(-9,10)\n",
    "print(x)\n",
    "\n",
    "y=x**2\n",
    "plt.plot(x,y,'r')\n",
    "plt.plot(x,y/2,'bs')"
   ]
  },
  {
   "cell_type": "code",
   "execution_count": 20,
   "id": "peaceful-paradise",
   "metadata": {},
   "outputs": [
    {
     "data": {
      "text/plain": [
       "<matplotlib.legend.Legend at 0x7f5ec4669208>"
      ]
     },
     "execution_count": 20,
     "metadata": {},
     "output_type": "execute_result"
    },
    {
     "data": {
      "image/png": "[encoded data removed]",
      "text/plain": [
       "<Figure size 432x288 with 1 Axes>"
      ]
     },
     "metadata": {
      "needs_background": "light"
     },
     "output_type": "display_data"
    }
   ],
   "source": [
    "plt.plot([0,3],[-1,1],label='first line')\n",
    "plt.plot([-2,0],[-4,1],label='second line')\n",
    "plt.legend()"
   ]
  },
  {
   "cell_type": "code",
   "execution_count": 22,
   "id": "toxic-seeker",
   "metadata": {},
   "outputs": [
    {
     "data": {
      "text/plain": [
       "array([[6, 0, 0, 2, 6],\n",
       "       [8, 0, 9, 7, 0],\n",
       "       [7, 4, 8, 7, 2],\n",
       "       [6, 1, 8, 6, 4]])"
      ]
     },
     "execution_count": 22,
     "metadata": {},
     "output_type": "execute_result"
    }
   ],
   "source": [
    "M = np.random.randint(0,10,size=(4,5))\n",
    "M"
   ]
  },
  {
   "cell_type": "code",
   "execution_count": 23,
   "id": "elegant-protest",
   "metadata": {},
   "outputs": [
    {
     "data": {
      "image/png": "[encoded data removed]",
      "text/plain": [
       "<Figure size 432x288 with 1 Axes>"
      ]
     },
     "metadata": {
      "needs_background": "light"
     },
     "output_type": "display_data"
    }
   ],
   "source": [
    "plt.imshow(M)\n",
    "plt.show()"
   ]
  },
  {
   "cell_type": "code",
   "execution_count": 25,
   "id": "middle-setting",
   "metadata": {},
   "outputs": [
    {
     "data": {
      "text/plain": [
       "[3, 4, 5, 2, 3, 4, 5, 2, 3, 4, 5, 2]"
      ]
     },
     "execution_count": 25,
     "metadata": {},
     "output_type": "execute_result"
    }
   ],
   "source": [
    "vec = [3,4,5,2]\n",
    "s=3\n",
    "\n",
    "vec*s"
   ]
  },
  {
   "cell_type": "code",
   "execution_count": 26,
   "id": "superior-protest",
   "metadata": {},
   "outputs": [
    {
     "data": {
      "text/plain": [
       "array([ 6,  8, 10,  4])"
      ]
     },
     "execution_count": 26,
     "metadata": {},
     "output_type": "execute_result"
    }
   ],
   "source": [
    "vec = np.array([3,4,5,2])\n",
    "s=2\n",
    "vec*s"
   ]
  },
  {
   "cell_type": "code",
   "execution_count": 29,
   "id": "higher-mileage",
   "metadata": {},
   "outputs": [
    {
     "data": {
      "text/plain": [
       "1"
      ]
     },
     "execution_count": 29,
     "metadata": {},
     "output_type": "execute_result"
    }
   ],
   "source": [
    "vec2 = np.array([1,2])\n",
    "s1=2\n",
    "s2=.5\n",
    "s3=-1\n",
    "vec2[0]"
   ]
  },
  {
   "cell_type": "code",
   "execution_count": 30,
   "id": "single-basin",
   "metadata": {},
   "outputs": [
    {
     "data": {
      "text/plain": [
       "[<matplotlib.lines.Line2D at 0x7f5ebfed3198>]"
      ]
     },
     "execution_count": 30,
     "metadata": {},
     "output_type": "execute_result"
    },
    {
     "data": {
      "image/png": "[encoded data removed]",
      "text/plain": [
       "<Figure size 432x288 with 1 Axes>"
      ]
     },
     "metadata": {
      "needs_background": "light"
     },
     "output_type": "display_data"
    }
   ],
   "source": [
    "plt.plot([0,vec2[0]],[0,vec2[1]],'gs')"
   ]
  },
  {
   "cell_type": "code",
   "execution_count": 31,
   "id": "metropolitan-philip",
   "metadata": {},
   "outputs": [
    {
     "data": {
      "text/plain": [
       "[<matplotlib.lines.Line2D at 0x7f5ebfeb2dd8>]"
      ]
     },
     "execution_count": 31,
     "metadata": {},
     "output_type": "execute_result"
    },
    {
     "data": {
      "image/png": "[encoded data removed]",
      "text/plain": [
       "<Figure size 432x288 with 1 Axes>"
      ]
     },
     "metadata": {
      "needs_background": "light"
     },
     "output_type": "display_data"
    }
   ],
   "source": [
    "plt.plot([0,vec2[0]],[0,vec2[1]],'gs-')"
   ]
  },
  {
   "cell_type": "code",
   "execution_count": 32,
   "id": "native-milwaukee",
   "metadata": {},
   "outputs": [
    {
     "data": {
      "text/plain": [
       "[<matplotlib.lines.Line2D at 0x7f5ebfe19ac8>]"
      ]
     },
     "execution_count": 32,
     "metadata": {},
     "output_type": "execute_result"
    },
    {
     "data": {
      "image/png": "[encoded data removed]",
      "text/plain": [
       "<Figure size 432x288 with 1 Axes>"
      ]
     },
     "metadata": {
      "needs_background": "light"
     },
     "output_type": "display_data"
    }
   ],
   "source": [
    "plt.plot([0,vec2[0]],[0,vec2[1]],'gs--')"
   ]
  },
  {
   "cell_type": "code",
   "execution_count": 34,
   "id": "european-helena",
   "metadata": {},
   "outputs": [
    {
     "data": {
      "image/png": "[encoded data removed]",
      "text/plain": [
       "<Figure size 432x288 with 1 Axes>"
      ]
     },
     "metadata": {
      "needs_background": "light"
     },
     "output_type": "display_data"
    }
   ],
   "source": [
    "plt.plot([0,vec2[0]],[0,vec2[1]],'gs-',label='v')\n",
    "plt.plot([0,s1*vec2[0]],[0,s1*vec2[1]],'ro-',label='v*s1')\n",
    "plt.plot([0,s2*vec2[0]],[0,s2*vec2[1]],'bo-',label='v*s2')\n",
    "plt.plot([0,s3*vec2[0]],[0,s3*vec2[1]],'k*-',label='v*s3')\n",
    "\n",
    "plt.axis('square')\n",
    "plt.xlim([-4,4])\n",
    "plt.ylim([-4,4])\n",
    "plt.grid()\n",
    "plt.legend()\n",
    "plt.show()\n"
   ]
  },
  {
   "cell_type": "code",
   "execution_count": 35,
   "id": "graphic-wholesale",
   "metadata": {},
   "outputs": [
    {
     "data": {
      "text/plain": [
       "25"
      ]
     },
     "execution_count": 35,
     "metadata": {},
     "output_type": "execute_result"
    }
   ],
   "source": [
    "v1 = np.array([5,6,2])\n",
    "v2 = np.array([3,0,5])\n",
    "\n",
    "np.dot(v1,v2)"
   ]
  },
  {
   "cell_type": "code",
   "execution_count": 37,
   "id": "fitted-jefferson",
   "metadata": {},
   "outputs": [
    {
     "data": {
      "text/plain": [
       "-7"
      ]
     },
     "execution_count": 37,
     "metadata": {},
     "output_type": "execute_result"
    }
   ],
   "source": [
    "v3 = np.array([-4,3,1])\n",
    "\n",
    "np.dot(v2,v3)"
   ]
  },
  {
   "cell_type": "code",
   "execution_count": 40,
   "id": "persistent-liberty",
   "metadata": {},
   "outputs": [
    {
     "data": {
      "text/plain": [
       "0"
      ]
     },
     "execution_count": 40,
     "metadata": {},
     "output_type": "execute_result"
    }
   ],
   "source": [
    "v4 = np.array([2,3,-1])\n",
    "np.dot(v3,v4)"
   ]
  },
  {
   "cell_type": "code",
   "execution_count": 41,
   "id": "phantom-delivery",
   "metadata": {},
   "outputs": [
    {
     "data": {
      "text/plain": [
       "array([[1., 0., 0.],\n",
       "       [0., 1., 0.],\n",
       "       [0., 0., 1.]])"
      ]
     },
     "execution_count": 41,
     "metadata": {},
     "output_type": "execute_result"
    }
   ],
   "source": [
    "np.eye(3)"
   ]
  },
  {
   "cell_type": "code",
   "execution_count": 42,
   "id": "skilled-screen",
   "metadata": {},
   "outputs": [
    {
     "data": {
      "text/plain": [
       "array([[0., 0., 0., 0.],\n",
       "       [0., 0., 0., 0.],\n",
       "       [0., 0., 0., 0.]])"
      ]
     },
     "execution_count": 42,
     "metadata": {},
     "output_type": "execute_result"
    }
   ],
   "source": [
    "np.zeros((3,4))"
   ]
  },
  {
   "cell_type": "code",
   "execution_count": 44,
   "id": "digital-distinction",
   "metadata": {},
   "outputs": [
    {
     "data": {
      "text/plain": [
       "array([[6, 6, 6],\n",
       "       [6, 6, 6],\n",
       "       [6, 6, 6],\n",
       "       [6, 6, 6],\n",
       "       [6, 6, 6]])"
      ]
     },
     "execution_count": 44,
     "metadata": {},
     "output_type": "execute_result"
    }
   ],
   "source": [
    "np.full((5,3),6)"
   ]
  },
  {
   "cell_type": "code",
   "execution_count": 47,
   "id": "compressed-generator",
   "metadata": {},
   "outputs": [
    {
     "name": "stdout",
     "output_type": "stream",
     "text": [
      "[[1 2 3]\n",
      " [4 5 6]\n",
      " [7 8 9]]\n"
     ]
    }
   ],
   "source": [
    "M = np.array([[1,2,3],[4,5,6],[7,8,9]])\n",
    "print(M)"
   ]
  },
  {
   "cell_type": "code",
   "execution_count": 48,
   "id": "greater-wireless",
   "metadata": {},
   "outputs": [
    {
     "name": "stdout",
     "output_type": "stream",
     "text": [
      "[5 6 2]\n",
      "[3 0 5]\n"
     ]
    }
   ],
   "source": [
    "v1 = np.array([5,6,2])\n",
    "v2 = np.array([3,0,5])\n",
    "print(v1.T)\n",
    "print(v2.T)"
   ]
  },
  {
   "cell_type": "code",
   "execution_count": 49,
   "id": "experienced-enough",
   "metadata": {},
   "outputs": [
    {
     "name": "stdout",
     "output_type": "stream",
     "text": [
      "[[5]\n",
      " [6]\n",
      " [2]]\n"
     ]
    }
   ],
   "source": [
    "v1 = np.array([5,6,2],ndmin=2)\n",
    "print(v1.T)"
   ]
  },
  {
   "cell_type": "code",
   "execution_count": 53,
   "id": "laden-companion",
   "metadata": {},
   "outputs": [
    {
     "name": "stdout",
     "output_type": "stream",
     "text": [
      "[[0. 0.]\n",
      " [0. 1.]]\n",
      " \n",
      "[[0. 0.]\n",
      " [0. 1.]]\n"
     ]
    }
   ],
   "source": [
    "M = np.round( np.random.rand(2,2) )\n",
    "print(M)\n",
    "print(' ')\n",
    "print(M.T)"
   ]
  },
  {
   "cell_type": "code",
   "execution_count": 55,
   "id": "joined-muslim",
   "metadata": {},
   "outputs": [
    {
     "name": "stdout",
     "output_type": "stream",
     "text": [
      "[[1.04157034 1.40455344 1.58285866 2.05160537]\n",
      " [0.78473709 1.22283236 1.02998675 2.08282782]\n",
      " [0.66154118 1.15466644 0.94426116 1.63034663]\n",
      " [0.87663669 1.22499204 1.35939177 1.46784528]]\n",
      "[[1.04157034 1.40455344 1.58285866 2.05160537]\n",
      " [0.78473709 1.22283236 1.02998675 2.08282782]\n",
      " [0.66154118 1.15466644 0.94426116 1.63034663]\n",
      " [0.87663669 1.22499204 1.35939177 1.46784528]]\n"
     ]
    }
   ],
   "source": [
    "m1 = np.random.rand(4,5)\n",
    "m2= np.random.rand(4,5)\n",
    "print( np.matmul(m1,m2.T) )\n",
    "\n",
    "print(m1@m2.T)"
   ]
  },
  {
   "cell_type": "code",
   "execution_count": 57,
   "id": "wrong-strike",
   "metadata": {},
   "outputs": [
    {
     "name": "stdout",
     "output_type": "stream",
     "text": [
      "[[0.77175659 0.00282176 0.61632372 0.96301144]\n",
      " [0.95807819 0.40512495 0.58723079 0.53722245]\n",
      " [0.49901025 0.16475799 0.55787712 0.51423503]\n",
      " [0.4667247  0.83588741 0.7453118  0.23883264]]\n",
      " \n",
      "[[-1.52855133  2.45658927  0.9320246  -1.36916874]\n",
      " [ 2.93822479 -0.29942112 -6.39331969  2.59169176]\n",
      " [-3.85026529 -0.71951919  8.57950554 -1.32934458]\n",
      " [ 4.71893504 -1.50734174 -6.21904189  1.94043226]]\n",
      " \n",
      "[[ 1.00000000e+00 -3.54258893e-16  1.04975455e-15 -3.46744089e-16]\n",
      " [ 7.57923168e-17  1.00000000e+00 -1.20281588e-16 -6.80324982e-17]\n",
      " [ 6.98496192e-17 -1.45775926e-17  1.00000000e+00 -2.63554980e-16]\n",
      " [ 1.16526073e-16 -1.74796916e-16  5.28260370e-16  1.00000000e+00]]\n"
     ]
    }
   ],
   "source": [
    "A = np.random.rand(4,4)\n",
    "Ainv = np.linalg.inv(A)\n",
    "\n",
    "AinvA = A@Ainv\n",
    "print(A)\n",
    "print(' ')\n",
    "print(Ainv)\n",
    "print(' ')\n",
    "print(AinvA)"
   ]
  },
  {
   "cell_type": "code",
   "execution_count": 60,
   "id": "banned-programming",
   "metadata": {},
   "outputs": [
    {
     "data": {
      "image/png": "[encoded data removed]",
      "text/plain": [
       "<Figure size 432x360 with 3 Axes>"
      ]
     },
     "metadata": {
      "needs_background": "light"
     },
     "output_type": "display_data"
    }
   ],
   "source": [
    "fig,ax = plt.subplots(1,3,figsize=(6,5))\n",
    "ax[0].imshow(A)\n",
    "ax[0].set_title('A')\n",
    "ax[1].imshow(Ainv)\n",
    "ax[1].set_title('A$^{-1}$')\n",
    "ax[2].imshow(AinvA)\n",
    "ax[2].set_title('A$^{-1}$A')\n",
    "plt.show()"
   ]
  },
  {
   "cell_type": "code",
   "execution_count": null,
   "id": "cheap-stereo",
   "metadata": {},
   "outputs": [],
   "source": []
  }
 ],
 "metadata": {
  "kernelspec": {
   "display_name": "Python 3",
   "language": "python",
   "name": "python3"
  },
  "language_info": {
   "codemirror_mode": {
    "name": "ipython",
    "version": 3
   },
   "file_extension": ".py",
   "mimetype": "text/x-python",
   "name": "python",
   "nbconvert_exporter": "python",
   "pygments_lexer": "ipython3",
   "version": "3.6.13"
  }
 },
 "nbformat": 4,
 "nbformat_minor": 5
}
