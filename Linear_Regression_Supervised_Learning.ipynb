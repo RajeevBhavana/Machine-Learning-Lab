{
  "nbformat": 4,
  "nbformat_minor": 0,
  "metadata": {
    "colab": {
      "name": "Linear Regression Supervised Learning.ipynb",
      "provenance": []
    },
    "kernelspec": {
      "name": "python3",
      "display_name": "Python 3"
    },
    "language_info": {
      "name": "python"
    }
  },
  "cells": [
    {
      "cell_type": "code",
      "metadata": {
        "colab": {
          "base_uri": "https://localhost:8080/"
        },
        "id": "bB011z82f_vE",
        "outputId": "e6ed8926-73c6-43ee-e0d9-f58c62b1faa1"
      },
      "source": [
        "import sklearn.datasets as datasets\n",
        "from sklearn.model_selection import train_test_split\n",
        "from sklearn.linear_model import LinearRegression\n",
        "import sklearn.metrics as metrics\n",
        "\n",
        "house = datasets.load_boston()\n",
        "\n",
        "print(\"The data shape of house is {}\".format(house.data.shape))\n",
        "print(\"The number of feature in this data set is {}\".format(\n",
        "    house.data.shape[1]))\n",
        "\n",
        "train_x, test_x, train_y, test_y = train_test_split(house.data,\n",
        "                                                    house.target,\n",
        "                                                    test_size=0.2,\n",
        "                                                    random_state=42)\n",
        "\n",
        "print(\"The first five samples {}\".format(train_x[:5]))\n",
        "print(\"The first five targets {}\".format(train_y[:5]))\n",
        "print(\"The number of samples in train set is {}\".format(train_x.shape[0]))\n",
        "print(\"The number of samples in test set is {}\".format(test_x.shape[0]))\n",
        "\n",
        "lr = LinearRegression()\n",
        "lr.fit(train_x, train_y)\n",
        "\n",
        "pred_y = lr.predict(test_x)\n",
        "print(\"The first five prediction {}\".format(pred_y[:5]))\n",
        "print(\"The real first five labels {}\".format(test_y[:5]))\n",
        "\n",
        "mse = metrics.mean_squared_error(test_y, pred_y)\n",
        "print(\"Mean Squared Error {}\".format(mse))"
      ],
      "execution_count": null,
      "outputs": [
        {
          "output_type": "stream",
          "name": "stdout",
          "text": [
            "The data shape of house is (506, 13)\n",
            "The number of feature in this data set is 13\n",
            "The first five samples [[1.50234e+01 0.00000e+00 1.81000e+01 0.00000e+00 6.14000e-01 5.30400e+00\n",
            "  9.73000e+01 2.10070e+00 2.40000e+01 6.66000e+02 2.02000e+01 3.49480e+02\n",
            "  2.49100e+01]\n",
            " [6.27390e-01 0.00000e+00 8.14000e+00 0.00000e+00 5.38000e-01 5.83400e+00\n",
            "  5.65000e+01 4.49860e+00 4.00000e+00 3.07000e+02 2.10000e+01 3.95620e+02\n",
            "  8.47000e+00]\n",
            " [3.46600e-02 3.50000e+01 6.06000e+00 0.00000e+00 4.37900e-01 6.03100e+00\n",
            "  2.33000e+01 6.64070e+00 1.00000e+00 3.04000e+02 1.69000e+01 3.62250e+02\n",
            "  7.83000e+00]\n",
            " [7.05042e+00 0.00000e+00 1.81000e+01 0.00000e+00 6.14000e-01 6.10300e+00\n",
            "  8.51000e+01 2.02180e+00 2.40000e+01 6.66000e+02 2.02000e+01 2.52000e+00\n",
            "  2.32900e+01]\n",
            " [7.25800e-01 0.00000e+00 8.14000e+00 0.00000e+00 5.38000e-01 5.72700e+00\n",
            "  6.95000e+01 3.79650e+00 4.00000e+00 3.07000e+02 2.10000e+01 3.90950e+02\n",
            "  1.12800e+01]]\n",
            "The first five targets [12.  19.9 19.4 13.4 18.2]\n",
            "The number of samples in train set is 404\n",
            "The number of samples in test set is 102\n",
            "The first five prediction [28.99672362 36.02556534 14.81694405 25.03197915 18.76987992]\n",
            "The real first five labels [23.6 32.4 13.6 22.8 16.1]\n",
            "Mean Squared Error 24.291119474973616\n"
          ]
        },
        {
          "output_type": "stream",
          "name": "stderr",
          "text": [
            "/usr/local/lib/python3.7/dist-packages/sklearn/utils/deprecation.py:87: FutureWarning: Function load_boston is deprecated; `load_boston` is deprecated in 1.0 and will be removed in 1.2.\n",
            "\n",
            "    The Boston housing prices dataset has an ethical problem. You can refer to\n",
            "    the documentation of this function for further details.\n",
            "\n",
            "    The scikit-learn maintainers therefore strongly discourage the use of this\n",
            "    dataset unless the purpose of the code is to study and educate about\n",
            "    ethical issues in data science and machine learning.\n",
            "\n",
            "    In this special case, you can fetch the dataset from the original\n",
            "    source::\n",
            "\n",
            "        import pandas as pd\n",
            "        import numpy as np\n",
            "\n",
            "\n",
            "        data_url = \"http://lib.stat.cmu.edu/datasets/boston\"\n",
            "        raw_df = pd.read_csv(data_url, sep=\"\\s+\", skiprows=22, header=None)\n",
            "        data = np.hstack([raw_df.values[::2, :], raw_df.values[1::2, :2]])\n",
            "        target = raw_df.values[1::2, 2]\n",
            "\n",
            "    Alternative datasets include the California housing dataset (i.e.\n",
            "    :func:`~sklearn.datasets.fetch_california_housing`) and the Ames housing\n",
            "    dataset. You can load the datasets as follows::\n",
            "\n",
            "        from sklearn.datasets import fetch_california_housing\n",
            "        housing = fetch_california_housing()\n",
            "\n",
            "    for the California housing dataset and::\n",
            "\n",
            "        from sklearn.datasets import fetch_openml\n",
            "        housing = fetch_openml(name=\"house_prices\", as_frame=True)\n",
            "\n",
            "    for the Ames housing dataset.\n",
            "    \n",
            "  warnings.warn(msg, category=FutureWarning)\n"
          ]
        }
      ]
    },
    {
      "cell_type": "code",
      "metadata": {
        "colab": {
          "base_uri": "https://localhost:8080/"
        },
        "id": "M62JjcoUjG7X",
        "outputId": "05a45042-2e7e-4c94-9604-1445c4e88759"
      },
      "source": [
        "import sklearn.datasets as datasets\n",
        "from sklearn.model_selection import train_test_split\n",
        "from sklearn.linear_model import LinearRegression\n",
        "import sklearn.metrics as metrics\n",
        "\n",
        "house = datasets.fetch_california_housing()\n",
        "\n",
        "print(\"The data shape of house is {}\".format(house.data.shape))\n",
        "print(\"The number of feature in this data set is {}\".format(\n",
        "    house.data.shape[1]))\n",
        "\n",
        "train_x, test_x, train_y, test_y = train_test_split(house.data,\n",
        "                                                    house.target,\n",
        "                                                    test_size=0.2,\n",
        "                                                    random_state=42)\n",
        "\n",
        "print(\"The first five samples {}\".format(train_x[:5]))\n",
        "print(\"The first five targets {}\".format(train_y[:5]))\n",
        "print(\"The number of samples in train set is {}\".format(train_x.shape[0]))\n",
        "print(\"The number of samples in test set is {}\".format(test_x.shape[0]))\n",
        "\n",
        "lr = LinearRegression()\n",
        "lr.fit(train_x, train_y)\n",
        "\n",
        "pred_y = lr.predict(test_x)\n",
        "print(\"The first five prediction {}\".format(pred_y[:5]))\n",
        "print(\"The real first five labels {}\".format(test_y[:5]))\n",
        "\n",
        "mse = metrics.mean_squared_error(test_y, pred_y)\n",
        "print(\"Mean Squared Error {}\".format(mse))"
      ],
      "execution_count": 4,
      "outputs": [
        {
          "output_type": "stream",
          "name": "stdout",
          "text": [
            "The data shape of house is (20640, 8)\n",
            "The number of feature in this data set is 8\n",
            "The first five samples [[ 3.25960000e+00  3.30000000e+01  5.01765650e+00  1.00642055e+00\n",
            "   2.30000000e+03  3.69181380e+00  3.27100000e+01 -1.17030000e+02]\n",
            " [ 3.81250000e+00  4.90000000e+01  4.47354497e+00  1.04100529e+00\n",
            "   1.31400000e+03  1.73809524e+00  3.37700000e+01 -1.18160000e+02]\n",
            " [ 4.15630000e+00  4.00000000e+00  5.64583333e+00  9.85119048e-01\n",
            "   9.15000000e+02  2.72321429e+00  3.46600000e+01 -1.20480000e+02]\n",
            " [ 1.94250000e+00  3.60000000e+01  4.00281690e+00  1.03380282e+00\n",
            "   1.41800000e+03  3.99436620e+00  3.26900000e+01 -1.17110000e+02]\n",
            " [ 3.55420000e+00  4.30000000e+01  6.26842105e+00  1.13421053e+00\n",
            "   8.74000000e+02  2.30000000e+00  3.67800000e+01 -1.19800000e+02]]\n",
            "The first five targets [1.03  3.821 1.726 0.934 0.965]\n",
            "The number of samples in train set is 16512\n",
            "The number of samples in test set is 4128\n",
            "The first five prediction [0.71912284 1.76401657 2.70965883 2.83892593 2.60465725]\n",
            "The real first five labels [0.477   0.458   5.00001 2.186   2.78   ]\n",
            "Mean Squared Error 0.5558915986952421\n"
          ]
        }
      ]
    },
    {
      "cell_type": "code",
      "metadata": {
        "id": "X9_8gb_FjWfY"
      },
      "source": [
        ""
      ],
      "execution_count": null,
      "outputs": []
    }
  ]
}